{
 "cells": [
  {
   "cell_type": "markdown",
   "metadata": {},
   "source": [
    "# Ski Slopes Case Study"
   ]
  },
  {
   "cell_type": "markdown",
   "metadata": {},
   "source": [
    "Problem:\n",
    "\n",
    "Our client is a ski company. At one of their ski parks, they are facing long queues at the ski lifts. They would like us to reduce the amount of time their customers spend waiting. In order to do so, the company would like us to investigate two ski lift alternatives.\n",
    "\n",
    "1.\tInstalling a Faster Ski Lift; replacing existing setup\n",
    "2.\tInstalling a 2nd Ski Lift, which is exactly like the current ski lift\n",
    "3.  Keep exisiting setup as is. Make no changes."
   ]
  },
  {
   "cell_type": "markdown",
   "metadata": {},
   "source": [
    "Objective: \n",
    "Find ski lift option with lowest queue times."
   ]
  },
  {
   "cell_type": "markdown",
   "metadata": {},
   "source": [
    "## Import Libraries"
   ]
  },
  {
   "cell_type": "code",
   "execution_count": 1,
   "metadata": {},
   "outputs": [],
   "source": [
    "import pandas as pd\n",
    "import numpy as np\n",
    "import matplotlib.pyplot as plt"
   ]
  },
  {
   "cell_type": "markdown",
   "metadata": {},
   "source": [
    "## Data"
   ]
  },
  {
   "cell_type": "markdown",
   "metadata": {},
   "source": [
    "| Lift Type      | Queue Rate      | Time on Lift | Time on Slopes |\n",
    "| -------------- | --------------- | ------------ | -------------- |\n",
    "| Faster Lift    | 5 riders / min  | 5 min        | 5 min          |\n",
    "| 2nd Lift       | 10 riders / min | 10 min       | 5 min          |\n",
    "| Existing setup | 5 riders / min  | 10 min       | 5 min          |"
   ]
  },
  {
   "cell_type": "markdown",
   "metadata": {},
   "source": [
    "## Solution"
   ]
  },
  {
   "cell_type": "markdown",
   "metadata": {},
   "source": [
    "The business objective is to reduce the number of skiers waiting at the bottom of the hill because long lines typically correlate to unhappy customers. Unhappy skiers are not typically repeat customers (\"churn\").\n",
    "\n",
    "Two major assumptions govern this analysis.\n",
    "1. The number of skiers is to remain constant\n",
    "2. Skiers are expected to follow a constant behavioral pattern. Queue for lift, ride lift to top of mountain, ski down the mountain and return to the lift queue. Repeat. \n",
    "\n",
    "\n",
    "Given assumption 1, the actual number of skiers on the mountain is irrelevat. The proportion of skiers at each location on the mountain will be constant at all times. The expected number of skiers will be product of the number of skiers per minute whom are ascending the mountain and the time spent (in minutes) at each location. The ski lift is \"bottle necking\" the flow of skiers. Therefore, the rate of travel will be constant across all locations, with a queue forming at the base of the mountain as the bottle neck is cleared.\n",
    "\n",
    "Given assumption 2, skiers will always be in 1 of 3 ordinal locations: queueing for a ski lift, riding a lift, or skiing down the slopes. The rate and time spent at 2 of the 3 locations have been given for each of the 3 lift options. Therefore, the number of skiers at the 3rd location (the queue) will always be the total number of skiers minus the sum of skiers at the other 2 locations (the lift and the slopes)."
   ]
  },
  {
   "cell_type": "markdown",
   "metadata": {},
   "source": [
    "Formulas: \\\n",
    "Skiers on the lift = Time on lift * Lift Rate \\\n",
    "Skiers on the slopes = Time on slopes * Lift Rate\n",
    "\n",
    "Skiers in queue = (Total Skiers - (Skiers on Lift + Skiers on Slopes)) \\\n",
    "Time in Queue = Skiers in queue / Lift Rate\n",
    "\n",
    "The above formulas are broken down and calculated below for each of the 3 options."
   ]
  },
  {
   "cell_type": "markdown",
   "metadata": {},
   "source": [
    "## Options"
   ]
  },
  {
   "cell_type": "markdown",
   "metadata": {},
   "source": [
    "Constants"
   ]
  },
  {
   "cell_type": "code",
   "execution_count": 2,
   "metadata": {},
   "outputs": [],
   "source": [
    "total_skiers = 1    # total number of skiers on the mountain. In skiers.\n",
    "slopes_time = 5     # average time a skier spends descending the mountain. In minutes"
   ]
  },
  {
   "cell_type": "markdown",
   "metadata": {},
   "source": [
    "### 1. Faster Lift\n",
    "\n",
    "**Installing a Faster Ski Lift; replacing existing setup.**"
   ]
  },
  {
   "cell_type": "markdown",
   "metadata": {},
   "source": [
    "Assumptions: \\\n",
    "Rate of Skiers to summit via lift: 5 skiers / minute \\\n",
    "<br>\n",
    "Time per location: \\\n",
    "Queue: X minutes \\\n",
    "Lift: 5 minutes \\\n",
    "Slopes: 5 minutes \n",
    "\n",
    "Assuming no queue to start the day and constant numbers of skiers across all locations."
   ]
  },
  {
   "cell_type": "code",
   "execution_count": 3,
   "metadata": {},
   "outputs": [],
   "source": [
    "# Skiers per minute (skiers / minute)\n",
    "faster_rate = 5\n",
    "\n",
    "# Time spent on lift (in minutes)\n",
    "faster_lift_time = 5\n",
    "\n",
    "# Number of skiers per location\n",
    "# Lift (in skiers)\n",
    "faster_lift_skiers = faster_lift_time * faster_rate\n",
    "# Slopes (in skiers)\n",
    "faster_slopes_skiers = slopes_time * faster_rate\n",
    "# Queue (in skiers)\n",
    "faster_queue_skiers = total_skiers - (faster_lift_skiers + faster_slopes_skiers)\n",
    "\n",
    "# Time in Queue (in minutes)\n",
    "faster_queue_time = faster_queue_skiers / faster_rate"
   ]
  },
  {
   "cell_type": "code",
   "execution_count": 4,
   "metadata": {},
   "outputs": [
    {
     "name": "stdout",
     "output_type": "stream",
     "text": [
      "Total on mountain: 1 skiers\n",
      "\n",
      "Skiers on lift = 5 mins [time on lift] * 5 skiers/min [lift rate]\n",
      "Skiers on lift = 25 skiers\n",
      "\n",
      "Skiers on slopes = 5 mins [time on slopes] * 5 skiers/min [lift rate]\n",
      "Skiers on slopes = 25 skiers\n",
      "\n",
      "Skiers in queue = 1 [total skiers] - (25 [skiers on lift] + 25 [skiers on slopes])\n",
      "Time queueing = -49 [skiers in queue] / 5 [skiers per minute]\n",
      "Time queueing: -9.8 minutes\n"
     ]
    }
   ],
   "source": [
    "print(f'Total on mountain: {total_skiers} skiers')\n",
    "print('')\n",
    "print(f'Skiers on lift = {faster_lift_time} mins [time on lift] * {faster_rate} skiers/min [lift rate]')\n",
    "print(f'Skiers on lift = {faster_lift_skiers} skiers')\n",
    "print('')\n",
    "print(f'Skiers on slopes = {slopes_time} mins [time on slopes] * {faster_rate} skiers/min [lift rate]')\n",
    "print(f'Skiers on slopes = {faster_slopes_skiers} skiers')\n",
    "print('')\n",
    "print(f'Skiers in queue = {total_skiers} [total skiers] - ({faster_lift_skiers} [skiers on lift] + {faster_slopes_skiers} [skiers on slopes])')\n",
    "print(f'Time queueing = {faster_queue_skiers} [skiers in queue] / {faster_rate} [skiers per minute]')\n",
    "print(f'Time queueing: {faster_queue_time} minutes')"
   ]
  },
  {
   "cell_type": "markdown",
   "metadata": {},
   "source": [
    "Findings: The Faster Lift option has a queue time of -9.8 minutes for 1 skier.\n",
    "___"
   ]
  },
  {
   "cell_type": "markdown",
   "metadata": {},
   "source": [
    "### 2. Second Lift\n",
    "\n",
    "**Install a 2nd ski lift, identical to the ski lift currently in operation.**"
   ]
  },
  {
   "cell_type": "markdown",
   "metadata": {},
   "source": [
    "Objective: \n",
    "Calculate time spent in queue.\n",
    "\n",
    "Assumptions: \\\n",
    "Rate of Skiers to summit via lifts: 10 skiers / minute \\\n",
    "<br>\n",
    "Time per location: \\\n",
    "Queue: X minutes \\\n",
    "Lift: 10 minutes \\\n",
    "Slopes: 5 minutes \n",
    "\n",
    "Assuming no queue to start the day and constant numbers of skiers across all locations."
   ]
  },
  {
   "cell_type": "code",
   "execution_count": 5,
   "metadata": {},
   "outputs": [],
   "source": [
    "# Skiers per minute (skiers / minute)\n",
    "second_rate = 10\n",
    "\n",
    "# Time spent on lift (in minutes)\n",
    "second_lift_time = 10\n",
    "\n",
    "# Number of skiers per location\n",
    "# Lift (in skiers)\n",
    "second_lift_skiers = second_lift_time * second_rate\n",
    "# Slopes (in skiers)\n",
    "second_slopes_skiers = slopes_time * second_rate\n",
    "# Queue (in skiers)\n",
    "second_queue_skiers = total_skiers - (second_lift_skiers + second_slopes_skiers)\n",
    "\n",
    "# Time in Queue (in minutes)\n",
    "second_queue_time = second_queue_skiers / second_rate"
   ]
  },
  {
   "cell_type": "code",
   "execution_count": 6,
   "metadata": {},
   "outputs": [
    {
     "name": "stdout",
     "output_type": "stream",
     "text": [
      "Total on mountain: 1 skiers\n",
      "\n",
      "Skiers on lift = 10 mins [time on lift] * 10 skiers/min [lift rate]\n",
      "Skiers on lift = 100 skiers\n",
      "\n",
      "Skiers on slopes = 5 mins [time on slopes] * 10 skiers/min [lift rate]\n",
      "Skiers on slopes = 50 skiers\n",
      "\n",
      "Skiers in queue = 1 [total skiers] - (100 [skiers on lift] + 50 [skiers on slopes])\n",
      "Time queueing = -149 [skiers in queue] / 10 [skiers per minute]\n",
      "Time queueing: -14.9 minutes\n"
     ]
    }
   ],
   "source": [
    "print(f'Total on mountain: {total_skiers} skiers')\n",
    "print('')\n",
    "print(f'Skiers on lift = {second_lift_time} mins [time on lift] * {second_rate} skiers/min [lift rate]')\n",
    "print(f'Skiers on lift = {second_lift_skiers} skiers')\n",
    "print('')\n",
    "print(f'Skiers on slopes = {slopes_time} mins [time on slopes] * {second_rate} skiers/min [lift rate]')\n",
    "print(f'Skiers on slopes = {second_slopes_skiers} skiers')\n",
    "print('')\n",
    "print(f'Skiers in queue = {total_skiers} [total skiers] - ({second_lift_skiers} [skiers on lift] + {second_slopes_skiers} [skiers on slopes])')\n",
    "print(f'Time queueing = {second_queue_skiers} [skiers in queue] / {second_rate} [skiers per minute]')\n",
    "print(f'Time queueing: {second_queue_time} minutes')"
   ]
  },
  {
   "cell_type": "markdown",
   "metadata": {},
   "source": [
    "Findings: The Second Lift option has a queue time of -14.9 minutes for 1 skier.\n",
    "___"
   ]
  },
  {
   "cell_type": "markdown",
   "metadata": {},
   "source": [
    "### 3. Existing setup\n",
    "\n",
    "**Keep exisiting setup as is. Make no changes.**"
   ]
  },
  {
   "cell_type": "markdown",
   "metadata": {},
   "source": [
    "Objective: \n",
    "Calculate time spent in queue.\n",
    "\n",
    "Assumptions: \\\n",
    "Rate of Skiers to summit via lift: 5 skiers / minute \\\n",
    "<br>\n",
    "Time per location: \\\n",
    "Queue: X minutes \\\n",
    "Lift: 10 minutes \\\n",
    "Slopes: 5 minutes \n",
    "\n",
    "Assuming no queue to start the day and constant numbers of skiers across all locations."
   ]
  },
  {
   "cell_type": "code",
   "execution_count": 7,
   "metadata": {},
   "outputs": [],
   "source": [
    "# Skiers per minute (skiers / minute)\n",
    "existing_rate = 5\n",
    "\n",
    "# Time spent on lift (in minutes)\n",
    "existing_lift_time = 10\n",
    "\n",
    "# Number of skiers per location\n",
    "# Lift (in skiers)\n",
    "existing_lift_skiers = existing_lift_time * existing_rate\n",
    "# Slopes (in skiers)\n",
    "existing_slopes_skiers = slopes_time * existing_rate\n",
    "# Queue (in skiers)\n",
    "existing_queue_skiers = total_skiers - (existing_lift_skiers + existing_slopes_skiers)\n",
    "\n",
    "# Time in Queue (in minutes)\n",
    "existing_queue_time = existing_queue_skiers / existing_rate"
   ]
  },
  {
   "cell_type": "code",
   "execution_count": 8,
   "metadata": {},
   "outputs": [
    {
     "name": "stdout",
     "output_type": "stream",
     "text": [
      "Total on mountain: 1 skiers\n",
      "\n",
      "Skiers on lift = 10 mins [time on lift] * 5 skiers/min [lift rate]\n",
      "Skiers on lift = 50 skiers\n",
      "\n",
      "Skiers on slopes = 5 mins [time on slopes] * 5 skiers/min [lift rate]\n",
      "Skiers on slopes = 25 skiers\n",
      "\n",
      "Skiers in queue = 1 [total skiers] - (50 [skiers on lift] + 25 [skiers on slopes])\n",
      "Time queueing = -74 [skiers in queue] / 5 [skiers per minute]\n",
      "Time queueing: -14.8 minutes\n"
     ]
    }
   ],
   "source": [
    "print(f'Total on mountain: {total_skiers} skiers')\n",
    "print('')\n",
    "print(f'Skiers on lift = {existing_lift_time} mins [time on lift] * {existing_rate} skiers/min [lift rate]')\n",
    "print(f'Skiers on lift = {existing_lift_skiers} skiers')\n",
    "print('')\n",
    "print(f'Skiers on slopes = {slopes_time} mins [time on slopes] * {existing_rate} skiers/min [lift rate]')\n",
    "print(f'Skiers on slopes = {existing_slopes_skiers} skiers')\n",
    "print('')\n",
    "print(f'Skiers in queue = {total_skiers} [total skiers] - ({existing_lift_skiers} [skiers on lift] + {existing_slopes_skiers} [skiers on slopes])')\n",
    "print(f'Time queueing = {existing_queue_skiers} [skiers in queue] / {existing_rate} [skiers per minute]')\n",
    "print(f'Time queueing: {existing_queue_time} minutes')"
   ]
  },
  {
   "cell_type": "markdown",
   "metadata": {},
   "source": [
    "Findings: The Existing Lift option has a queue time of -14.8 minutes for 1 skier.\n",
    "___"
   ]
  },
  {
   "cell_type": "markdown",
   "metadata": {},
   "source": [
    "## Queue time function"
   ]
  },
  {
   "cell_type": "code",
   "execution_count": 9,
   "metadata": {},
   "outputs": [],
   "source": [
    "def queue_time(total_skiers=total_skiers, lift_rate=5, lift_time=10) -> float:\n",
    "    \"\"\"Calculate time skiers will spend queueing at the bottom of the mountain.\n",
    "    Args:\n",
    "        total_skiers (int): total skiers on the mountain.\n",
    "        lift_rate (int): skiers per minute ascending the mountain.\n",
    "        lift_time (int): time in minutes lift takes to transport skiers from the bottom to the top of the ski lift.\n",
    "    Returns: \n",
    "        float: expected queue time in minutes.\"\"\"\n",
    "\n",
    "    # Number of skiers per location\n",
    "    # Lift\n",
    "    lift_skiers = lift_time * lift_rate\n",
    "    # Slopes\n",
    "    slopes_skiers = slopes_time * lift_rate\n",
    "    # Queue\n",
    "    queue_skiers = total_skiers - (lift_skiers + slopes_skiers)\n",
    "\n",
    "    # Time in Queue (in minutes)\n",
    "    return queue_skiers / lift_rate"
   ]
  },
  {
   "cell_type": "markdown",
   "metadata": {},
   "source": [
    "Objective: Calculate queue time for 100 skiers for all 3 options"
   ]
  },
  {
   "cell_type": "code",
   "execution_count": 10,
   "metadata": {},
   "outputs": [
    {
     "name": "stdout",
     "output_type": "stream",
     "text": [
      "Queue time for \"Faster\" ski lift with 100 skiers 10.0 minutes\n",
      "Queue time for \"Second\" ski lift with 100 skiers -5.0 minutes\n",
      "Queue time for \"Existing\" ski lift with 100 skiers 5.0 minutes\n"
     ]
    }
   ],
   "source": [
    "skiers = 100\n",
    "# Option 1 (Faster Ski Lift)\n",
    "# (lift rate = 5/min, time on lift = 5 min)\n",
    "print(f'Queue time for \"Faster\" ski lift with {skiers} skiers {queue_time(total_skiers=skiers, lift_rate=5, lift_time=5)} minutes')\n",
    "\n",
    "# Option 2 (Second Ski Lift)\n",
    "# (lift rate = 10/min, time on lift = 10 min)\n",
    "print(f'Queue time for \"Second\" ski lift with {skiers} skiers {queue_time(total_skiers=skiers, lift_rate=10, lift_time=10)} minutes')\n",
    "\n",
    "# Existing Option (No changes)\n",
    "# (lift rate = 5/min, time on lift = 5 min)\n",
    "print(f'Queue time for \"Existing\" ski lift with {skiers} skiers {queue_time(total_skiers=skiers)} minutes')"
   ]
  },
  {
   "cell_type": "markdown",
   "metadata": {},
   "source": [
    "Objective: Calculate queue time for 1,000 skiers for all 3 options"
   ]
  },
  {
   "cell_type": "code",
   "execution_count": 11,
   "metadata": {},
   "outputs": [
    {
     "name": "stdout",
     "output_type": "stream",
     "text": [
      "Queue time for \"Faster\" ski lift with 1000 skiers 190.0 minutes\n",
      "Queue time for \"Second\" ski lift with 1000 skiers 85.0 minutes\n",
      "Queue time for \"Existing\" ski lift with 1000 skiers 185.0 minutes\n"
     ]
    }
   ],
   "source": [
    "skiers = 1000\n",
    "# Option 1 (Faster Ski Lift)\n",
    "# (lift rate = 5/min, time on lift = 5 min)\n",
    "print(f'Queue time for \"Faster\" ski lift with {skiers} skiers {queue_time(total_skiers=skiers, lift_rate=5, lift_time=5)} minutes')\n",
    "\n",
    "# Option 2 (Second Ski Lift)\n",
    "# (lift rate = 10/min, time on lift = 10 min)\n",
    "print(f'Queue time for \"Second\" ski lift with {skiers} skiers {queue_time(total_skiers=skiers, lift_rate=10, lift_time=10)} minutes')\n",
    "\n",
    "# Existing Option (No changes)\n",
    "# (lift rate = 5/min, time on lift = 5 min)\n",
    "print(f'Queue time for \"Existing\" ski lift with {skiers} skiers {queue_time(total_skiers=skiers)} minutes')"
   ]
  },
  {
   "cell_type": "markdown",
   "metadata": {},
   "source": [
    "## Visualize"
   ]
  },
  {
   "cell_type": "code",
   "execution_count": 12,
   "metadata": {},
   "outputs": [],
   "source": [
    "queue_time_vect = np.vectorize(queue_time)"
   ]
  },
  {
   "cell_type": "code",
   "execution_count": 13,
   "metadata": {},
   "outputs": [
    {
     "data": {
      "image/png": "[encoded data removed]",
      "text/plain": [
       "<Figure size 720x504 with 1 Axes>"
      ]
     },
     "metadata": {
      "needs_background": "light"
     },
     "output_type": "display_data"
    }
   ],
   "source": [
    "x_min = 0\n",
    "x_max = 175\n",
    "\n",
    "# Option 1: Faster Lift\n",
    "plt.figure(figsize=(10, 7))\n",
    "x = list(range(x_min, x_max))\n",
    "y = queue_time_vect(x, lift_rate=faster_rate, lift_time=faster_lift_time)\n",
    "plt.plot(x, y, label='Faster Lift', color='orange')\n",
    "plt.scatter(x=np.where(np.round(y, 1)==0, x, 0).max(), y=0, label='0 min wait time', color='orange', s=100)\n",
    "plt.annotate(text=f'{np.where(np.round(y, 1)==0, x, 0).max()} skiers', xy=((np.where(np.round(y, 1)==0, x, 0).max() - 17), .5), color='orange')\n",
    "\n",
    "# Option 2: Second Lift\n",
    "y = queue_time_vect(x, lift_rate=second_rate, lift_time=second_lift_time)\n",
    "plt.plot(x, y, label='Second Lift', color='green')\n",
    "plt.scatter(x=np.where(np.round(y, 1)==0, x, 0).max(), y=0, label='0 min wait time', color='green', s=100)\n",
    "plt.annotate(text=f'{np.where(np.round(y, 1)==0, x, 0).max()} skiers', xy=((np.where(np.round(y, 1)==0, x, 0).max() - 17), .5), color='green')\n",
    "\n",
    "# Option 3: Existing Setup\n",
    "y = queue_time_vect(x, lift_rate=existing_rate, lift_time=existing_lift_time)\n",
    "plt.plot(x, y, label='Existing Lift', color='blue')\n",
    "plt.scatter(x=np.where(np.round(y, 1)==0, x, 0).max(), y=0, label='0 min wait time', color='blue', s=100)\n",
    "plt.annotate(text=f'{np.where(np.round(y, 1)==0, x, 0).max()} skiers', xy=((np.where(np.round(y, 1)==0, x, 0).max() - 17), .5), color='blue')\n",
    "\n",
    "plt.hlines(y=0, linestyles='--', xmin=x_min, xmax=x_max, color='black')\n",
    "\n",
    "plt.xlim(x_min, x_max-1)\n",
    "plt.title('Queue Wait Time')\n",
    "plt.xlabel('Skiers')\n",
    "plt.ylabel('Time in Queue (mins)')\n",
    "plt.legend();"
   ]
  }
 ],
 "metadata": {
  "kernelspec": {
   "display_name": "Python 3.9.7 ('base')",
   "language": "python",
   "name": "python3"
  },
  "language_info": {
   "codemirror_mode": {
    "name": "ipython",
    "version": 3
   },
   "file_extension": ".py",
   "mimetype": "text/x-python",
   "name": "python",
   "nbconvert_exporter": "python",
   "pygments_lexer": "ipython3",
   "version": "3.9.7"
  },
  "orig_nbformat": 4,
  "vscode": {
   "interpreter": {
    "hash": "6aaf12f00e2accd7ab3a69f0361120d5b81b11b109d190d2913220c8ee37ccf8"
   }
  }
 },
 "nbformat": 4,
 "nbformat_minor": 2
}
