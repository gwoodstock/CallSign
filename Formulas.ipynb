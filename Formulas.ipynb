{
 "cells": [
  {
   "cell_type": "markdown",
   "metadata": {},
   "source": [
    "# Ski Slopes Case Study"
   ]
  },
  {
   "cell_type": "markdown",
   "metadata": {},
   "source": [
    "Problem:\n",
    "\n",
    "Our client is a ski company. At one of their ski parks, they are facing long queues at the ski lifts. They would like us to reduce the amount of time their customers spend waiting. In order to do so, the company would like us to investigate two ski lift alternatives.\n",
    "\n",
    "1.\tInstalling a Faster Ski Lift; replacing existing setup\n",
    "2.\tInstalling a 2nd Ski Lift, which is exactly like the current ski lift\n",
    "3.  Keep exisiting setup as is. Make no changes."
   ]
  },
  {
   "cell_type": "markdown",
   "metadata": {},
   "source": [
    "Objective: \n",
    "Find ski lift option with lowest queue times."
   ]
  },
  {
   "cell_type": "markdown",
   "metadata": {},
   "source": [
    "## Import Libraries"
   ]
  },
  {
   "cell_type": "code",
   "execution_count": 1,
   "metadata": {},
   "outputs": [],
   "source": [
    "import pandas as pd\n",
    "import numpy as np\n",
    "import matplotlib.pyplot as plt"
   ]
  },
  {
   "cell_type": "markdown",
   "metadata": {},
   "source": [
    "## Data"
   ]
  },
  {
   "cell_type": "markdown",
   "metadata": {},
   "source": [
    "| Lift Type      | Queue Rate      | Time on Lift | Time on Slopes |\n",
    "| -------------- | --------------- | ------------ | -------------- |\n",
    "| Faster Lift    | 5 riders / min  | 5 min        | 5 min          |\n",
    "| 2nd Lift       | 10 riders / min | 10 min       | 5 min          |\n",
    "| Existing setup | 5 riders / min  | 10 min       | 5 min          |"
   ]
  },
  {
   "cell_type": "markdown",
   "metadata": {},
   "source": [
    "## Solution"
   ]
  },
  {
   "cell_type": "markdown",
   "metadata": {},
   "source": [
    "The business objective is to reduce the number of skiers waiting at the bottom of the hill because long lines typically correlate to unhappy customers. Unhappy skiers are not typically repeat customers (\"churn\").\n",
    "\n",
    "Two major assumptions govern this analysis.\n",
    "1. The number of skiers is to remain constant\n",
    "2. Skiers are expected to follow a constant behavioral pattern. Queue for lift, ride lift to top of mountain, ski down the mountain and return to the lift queue. Repeat. \n",
    "\n",
    "\n",
    "Given assumption 1, the actual number of skiers on the mountain is irrelevat. The proportion of skiers at each location on the mountain will be constant at all times. The expected number of skiers will be the product of the number of skiers per minute whom are ascending the mountain and the time spent (in minutes) at each location. The ski lift is \"bottle necking\" the flow of skiers. Therefore, the rate of travel will be constant across all locations, with a queue forming at the base of the mountain as the bottle neck is cleared.\n",
    "\n",
    "Given assumption 2, skiers will always be in 1 of 3 ordinal locations: queueing for a ski lift, riding a lift, or skiing down the slopes. The rate and time spent at 2 of the 3 locations have been given for each of the 3 lift options. Therefore, the number of skiers at the 3rd location (the queue) will always be the total number of skiers minus the sum of skiers at the other 2 locations (the lift and the slopes)."
   ]
  },
  {
   "cell_type": "markdown",
   "metadata": {},
   "source": [
    "## Formulas\n",
    "Skiers on the lift = Time on lift * Lift Rate \\\n",
    "Skiers on the slopes = Time on slopes * Lift Rate\n",
    "\n",
    "Skiers in queue = (Total Skiers - (Skiers on Lift + Skiers on Slopes)) \\\n",
    "Time in Queue = Skiers in queue / Lift Rate\n",
    "\n",
    "The above formulas are broken down and calculated below for each of the 3 options."
   ]
  },
  {
   "cell_type": "markdown",
   "metadata": {},
   "source": [
    "## Options"
   ]
  },
  {
   "cell_type": "markdown",
   "metadata": {},
   "source": [
    "Constants"
   ]
  },
  {
   "cell_type": "code",
   "execution_count": 2,
   "metadata": {},
   "outputs": [],
   "source": [
    "total_skiers = 1    # total number of skiers on the mountain. In skiers.\n",
    "slopes_time = 5     # average time a skier spends descending the mountain. In minutes"
   ]
  },
  {
   "cell_type": "markdown",
   "metadata": {},
   "source": [
    "### 1. Faster Lift\n",
    "\n",
    "**Installing a Faster Ski Lift; replacing existing setup.**"
   ]
  },
  {
   "cell_type": "markdown",
   "metadata": {},
   "source": [
    "Assumptions: \\\n",
    "Rate of Skiers to summit via lift: 5 skiers / minute \\\n",
    "<br>\n",
    "Time per location: \\\n",
    "Queue: X minutes \\\n",
    "Lift: 5 minutes \\\n",
    "Slopes: 5 minutes \n",
    "\n",
    "Assuming no queue to start the day and constant numbers of skiers across all locations."
   ]
  },
  {
   "cell_type": "code",
   "execution_count": 3,
   "metadata": {},
   "outputs": [],
   "source": [
    "# Skiers per minute (skiers / minute)\n",
    "faster_rate = 5\n",
    "\n",
    "# Time spent on lift (in minutes)\n",
    "faster_lift_time = 5\n",
    "\n",
    "# Number of skiers per location\n",
    "# Lift (in skiers)\n",
    "faster_lift_skiers = faster_lift_time * faster_rate\n",
    "# Slopes (in skiers)\n",
    "faster_slopes_skiers = slopes_time * faster_rate\n",
    "# Queue (in skiers)\n",
    "faster_queue_skiers = total_skiers - (faster_lift_skiers + faster_slopes_skiers)\n",
    "\n",
    "# Time in Queue (in minutes)\n",
    "faster_queue_time = faster_queue_skiers / faster_rate"
   ]
  },
  {
   "cell_type": "code",
   "execution_count": 4,
   "metadata": {},
   "outputs": [
    {
     "name": "stdout",
     "output_type": "stream",
     "text": [
      "Total on mountain: 1 skiers\n",
      "\n",
      "Skiers on lift = 5 mins [time on lift] * 5 skiers/min [lift rate]\n",
      "Skiers on lift = 25 skiers\n",
      "\n",
      "Skiers on slopes = 5 mins [time on slopes] * 5 skiers/min [lift rate]\n",
      "Skiers on slopes = 25 skiers\n",
      "\n",
      "Skiers in queue = 1 [total skiers] - (25 [skiers on lift] + 25 [skiers on slopes])\n",
      "Time queueing = -49 [skiers in queue] / 5 [skiers per minute]\n",
      "Time queueing: -9.8 minutes\n"
     ]
    }
   ],
   "source": [
    "print(f'Total on mountain: {total_skiers} skiers')\n",
    "print('')\n",
    "print(f'Skiers on lift = {faster_lift_time} mins [time on lift] * {faster_rate} skiers/min [lift rate]')\n",
    "print(f'Skiers on lift = {faster_lift_skiers} skiers')\n",
    "print('')\n",
    "print(f'Skiers on slopes = {slopes_time} mins [time on slopes] * {faster_rate} skiers/min [lift rate]')\n",
    "print(f'Skiers on slopes = {faster_slopes_skiers} skiers')\n",
    "print('')\n",
    "print(f'Skiers in queue = {total_skiers} [total skiers] - ({faster_lift_skiers} [skiers on lift] + {faster_slopes_skiers} [skiers on slopes])')\n",
    "print(f'Time queueing = {faster_queue_skiers} [skiers in queue] / {faster_rate} [skiers per minute]')\n",
    "print(f'Time queueing: {faster_queue_time} minutes')"
   ]
  },
  {
   "cell_type": "markdown",
   "metadata": {},
   "source": [
    "Findings: The Faster Lift option has a queue time of -9.8 minutes for 1 skier.\n",
    "___"
   ]
  },
  {
   "cell_type": "markdown",
   "metadata": {},
   "source": [
    "### 2. Second Lift\n",
    "\n",
    "**Install a 2nd ski lift, identical to the ski lift currently in operation.**"
   ]
  },
  {
   "cell_type": "markdown",
   "metadata": {},
   "source": [
    "Objective: \n",
    "Calculate time spent in queue.\n",
    "\n",
    "Assumptions: \\\n",
    "Rate of Skiers to summit via lifts: 10 skiers / minute \\\n",
    "<br>\n",
    "Time per location: \\\n",
    "Queue: X minutes \\\n",
    "Lift: 10 minutes \\\n",
    "Slopes: 5 minutes \n",
    "\n",
    "Assuming no queue to start the day and constant numbers of skiers across all locations."
   ]
  },
  {
   "cell_type": "code",
   "execution_count": 5,
   "metadata": {},
   "outputs": [],
   "source": [
    "# Skiers per minute (skiers / minute)\n",
    "second_rate = 10\n",
    "\n",
    "# Time spent on lift (in minutes)\n",
    "second_lift_time = 10\n",
    "\n",
    "# Number of skiers per location\n",
    "# Lift (in skiers)\n",
    "second_lift_skiers = second_lift_time * second_rate\n",
    "# Slopes (in skiers)\n",
    "second_slopes_skiers = slopes_time * second_rate\n",
    "# Queue (in skiers)\n",
    "second_queue_skiers = total_skiers - (second_lift_skiers + second_slopes_skiers)\n",
    "\n",
    "# Time in Queue (in minutes)\n",
    "second_queue_time = second_queue_skiers / second_rate"
   ]
  },
  {
   "cell_type": "code",
   "execution_count": 6,
   "metadata": {},
   "outputs": [
    {
     "name": "stdout",
     "output_type": "stream",
     "text": [
      "Total on mountain: 1 skiers\n",
      "\n",
      "Skiers on lift = 10 mins [time on lift] * 10 skiers/min [lift rate]\n",
      "Skiers on lift = 100 skiers\n",
      "\n",
      "Skiers on slopes = 5 mins [time on slopes] * 10 skiers/min [lift rate]\n",
      "Skiers on slopes = 50 skiers\n",
      "\n",
      "Skiers in queue = 1 [total skiers] - (100 [skiers on lift] + 50 [skiers on slopes])\n",
      "Time queueing = -149 [skiers in queue] / 10 [skiers per minute]\n",
      "Time queueing: -14.9 minutes\n"
     ]
    }
   ],
   "source": [
    "print(f'Total on mountain: {total_skiers} skiers')\n",
    "print('')\n",
    "print(f'Skiers on lift = {second_lift_time} mins [time on lift] * {second_rate} skiers/min [lift rate]')\n",
    "print(f'Skiers on lift = {second_lift_skiers} skiers')\n",
    "print('')\n",
    "print(f'Skiers on slopes = {slopes_time} mins [time on slopes] * {second_rate} skiers/min [lift rate]')\n",
    "print(f'Skiers on slopes = {second_slopes_skiers} skiers')\n",
    "print('')\n",
    "print(f'Skiers in queue = {total_skiers} [total skiers] - ({second_lift_skiers} [skiers on lift] + {second_slopes_skiers} [skiers on slopes])')\n",
    "print(f'Time queueing = {second_queue_skiers} [skiers in queue] / {second_rate} [skiers per minute]')\n",
    "print(f'Time queueing: {second_queue_time} minutes')"
   ]
  },
  {
   "cell_type": "markdown",
   "metadata": {},
   "source": [
    "Findings: The Second Lift option has a queue time of -14.9 minutes for 1 skier.\n",
    "___"
   ]
  },
  {
   "cell_type": "markdown",
   "metadata": {},
   "source": [
    "### 3. Existing setup\n",
    "\n",
    "**Keep exisiting setup as is. Make no changes.**"
   ]
  },
  {
   "cell_type": "markdown",
   "metadata": {},
   "source": [
    "Objective: \n",
    "Calculate time spent in queue.\n",
    "\n",
    "Assumptions: \\\n",
    "Rate of Skiers to summit via lift: 5 skiers / minute \\\n",
    "<br>\n",
    "Time per location: \\\n",
    "Queue: X minutes \\\n",
    "Lift: 10 minutes \\\n",
    "Slopes: 5 minutes \n",
    "\n",
    "Assuming no queue to start the day and constant numbers of skiers across all locations."
   ]
  },
  {
   "cell_type": "code",
   "execution_count": 7,
   "metadata": {},
   "outputs": [],
   "source": [
    "# Skiers per minute (skiers / minute)\n",
    "existing_rate = 5\n",
    "\n",
    "# Time spent on lift (in minutes)\n",
    "existing_lift_time = 10\n",
    "\n",
    "# Number of skiers per location\n",
    "# Lift (in skiers)\n",
    "existing_lift_skiers = existing_lift_time * existing_rate\n",
    "# Slopes (in skiers)\n",
    "existing_slopes_skiers = slopes_time * existing_rate\n",
    "# Queue (in skiers)\n",
    "existing_queue_skiers = total_skiers - (existing_lift_skiers + existing_slopes_skiers)\n",
    "\n",
    "# Time in Queue (in minutes)\n",
    "existing_queue_time = existing_queue_skiers / existing_rate"
   ]
  },
  {
   "cell_type": "code",
   "execution_count": 8,
   "metadata": {},
   "outputs": [
    {
     "name": "stdout",
     "output_type": "stream",
     "text": [
      "Total on mountain: 1 skiers\n",
      "\n",
      "Skiers on lift = 10 mins [time on lift] * 5 skiers/min [lift rate]\n",
      "Skiers on lift = 50 skiers\n",
      "\n",
      "Skiers on slopes = 5 mins [time on slopes] * 5 skiers/min [lift rate]\n",
      "Skiers on slopes = 25 skiers\n",
      "\n",
      "Skiers in queue = 1 [total skiers] - (50 [skiers on lift] + 25 [skiers on slopes])\n",
      "Time queueing = -74 [skiers in queue] / 5 [skiers per minute]\n",
      "Time queueing: -14.8 minutes\n"
     ]
    }
   ],
   "source": [
    "print(f'Total on mountain: {total_skiers} skiers')\n",
    "print('')\n",
    "print(f'Skiers on lift = {existing_lift_time} mins [time on lift] * {existing_rate} skiers/min [lift rate]')\n",
    "print(f'Skiers on lift = {existing_lift_skiers} skiers')\n",
    "print('')\n",
    "print(f'Skiers on slopes = {slopes_time} mins [time on slopes] * {existing_rate} skiers/min [lift rate]')\n",
    "print(f'Skiers on slopes = {existing_slopes_skiers} skiers')\n",
    "print('')\n",
    "print(f'Skiers in queue = {total_skiers} [total skiers] - ({existing_lift_skiers} [skiers on lift] + {existing_slopes_skiers} [skiers on slopes])')\n",
    "print(f'Time queueing = {existing_queue_skiers} [skiers in queue] / {existing_rate} [skiers per minute]')\n",
    "print(f'Time queueing: {existing_queue_time} minutes')"
   ]
  },
  {
   "cell_type": "markdown",
   "metadata": {},
   "source": [
    "Findings: The Existing Lift option has a queue time of -14.8 minutes for 1 skier.\n",
    "___"
   ]
  },
  {
   "cell_type": "markdown",
   "metadata": {},
   "source": [
    "## Queue time function"
   ]
  },
  {
   "cell_type": "code",
   "execution_count": 9,
   "metadata": {},
   "outputs": [],
   "source": [
    "def queue_time(total_skiers=total_skiers, lift_rate=5, lift_time=10) -> float:\n",
    "    \"\"\"Calculate time skiers will spend queueing at the bottom of the mountain.\n",
    "    Args:\n",
    "        total_skiers (int): total skiers on the mountain.\n",
    "        lift_rate (int): skiers per minute ascending the mountain.\n",
    "        lift_time (int): time in minutes lift takes to transport skiers from the bottom to the top of the ski lift.\n",
    "    Returns: \n",
    "        float: expected queue time in minutes.\"\"\"\n",
    "\n",
    "    # Number of skiers per location\n",
    "    # Lift\n",
    "    lift_skiers = lift_time * lift_rate\n",
    "    # Slopes\n",
    "    slopes_skiers = slopes_time * lift_rate\n",
    "    # Queue\n",
    "    queue_skiers = total_skiers - (lift_skiers + slopes_skiers)\n",
    "\n",
    "    # Time in Queue (in minutes)\n",
    "    return queue_skiers / lift_rate"
   ]
  },
  {
   "cell_type": "markdown",
   "metadata": {},
   "source": [
    "Objective: Calculate queue time for 100 skiers for all 3 options"
   ]
  },
  {
   "cell_type": "code",
   "execution_count": 10,
   "metadata": {},
   "outputs": [
    {
     "name": "stdout",
     "output_type": "stream",
     "text": [
      "Queue time for \"Faster\" ski lift with 100 skiers 10.0 minutes\n",
      "Queue time for \"Second\" ski lift with 100 skiers -5.0 minutes\n",
      "Queue time for \"Existing\" ski lift with 100 skiers 5.0 minutes\n"
     ]
    }
   ],
   "source": [
    "skiers = 100\n",
    "# Option 1 (Faster Ski Lift)\n",
    "# (lift rate = 5/min, time on lift = 5 min)\n",
    "print(f'Queue time for \"Faster\" ski lift with {skiers} skiers {queue_time(total_skiers=skiers, lift_rate=5, lift_time=5)} minutes')\n",
    "\n",
    "# Option 2 (Second Ski Lift)\n",
    "# (lift rate = 10/min, time on lift = 10 min)\n",
    "print(f'Queue time for \"Second\" ski lift with {skiers} skiers {queue_time(total_skiers=skiers, lift_rate=10, lift_time=10)} minutes')\n",
    "\n",
    "# Existing Option (No changes)\n",
    "# (lift rate = 5/min, time on lift = 5 min)\n",
    "print(f'Queue time for \"Existing\" ski lift with {skiers} skiers {queue_time(total_skiers=skiers)} minutes')"
   ]
  },
  {
   "cell_type": "markdown",
   "metadata": {},
   "source": [
    "Objective: Calculate queue time for 1,000 skiers for all 3 options"
   ]
  },
  {
   "cell_type": "code",
   "execution_count": 11,
   "metadata": {},
   "outputs": [
    {
     "name": "stdout",
     "output_type": "stream",
     "text": [
      "Queue time for \"Faster\" ski lift with 1000 skiers 190.0 minutes\n",
      "Queue time for \"Second\" ski lift with 1000 skiers 85.0 minutes\n",
      "Queue time for \"Existing\" ski lift with 1000 skiers 185.0 minutes\n"
     ]
    }
   ],
   "source": [
    "skiers = 1000\n",
    "# Option 1 (Faster Ski Lift)\n",
    "# (lift rate = 5/min, time on lift = 5 min)\n",
    "print(f'Queue time for \"Faster\" ski lift with {skiers} skiers {queue_time(total_skiers=skiers, lift_rate=5, lift_time=5)} minutes')\n",
    "\n",
    "# Option 2 (Second Ski Lift)\n",
    "# (lift rate = 10/min, time on lift = 10 min)\n",
    "print(f'Queue time for \"Second\" ski lift with {skiers} skiers {queue_time(total_skiers=skiers, lift_rate=10, lift_time=10)} minutes')\n",
    "\n",
    "# Existing Option (No changes)\n",
    "# (lift rate = 5/min, time on lift = 5 min)\n",
    "print(f'Queue time for \"Existing\" ski lift with {skiers} skiers {queue_time(total_skiers=skiers)} minutes')"
   ]
  },
  {
   "cell_type": "markdown",
   "metadata": {},
   "source": [
    "## Visualize"
   ]
  },
  {
   "cell_type": "code",
   "execution_count": 12,
   "metadata": {},
   "outputs": [],
   "source": [
    "queue_time_vect = np.vectorize(queue_time)"
   ]
  },
  {
   "cell_type": "code",
   "execution_count": 67,
   "metadata": {},
   "outputs": [
    {
     "data": {
      "image/png": "[encoded data removed]",
      "text/plain": [
       "<Figure size 720x504 with 1 Axes>"
      ]
     },
     "metadata": {},
     "output_type": "display_data"
    }
   ],
   "source": [
    "x_min = 0\n",
    "x_max = 175\n",
    "\n",
    "plt.figure(figsize=(10, 7), facecolor='white')\n",
    "\n",
    "# Option 3: Existing Setup\n",
    "y = queue_time_vect(x, lift_rate=existing_rate, lift_time=existing_lift_time)\n",
    "plt.plot(x, y, label='Existing Lift', color='gray')\n",
    "plt.scatter(x=np.where(np.round(y, 1)==0, x, 0).max(), y=0, color='gray', s=100)\n",
    "plt.annotate(text=f'{np.where(np.round(y, 1)==0, x, 0).max()} skiers', xy=((np.where(np.round(y, 1)==0, x, 0).max() - 17), .5), color='gray')\n",
    "\n",
    "# Option 1: Faster Lift\n",
    "x = list(range(x_min, x_max))\n",
    "y = queue_time_vect(x, lift_rate=faster_rate, lift_time=faster_lift_time)\n",
    "plt.plot(x, y, label='Faster Lift', color='blue')\n",
    "plt.scatter(x=np.where(np.round(y, 1)==0, x, 0).max(), y=0, color='blue', s=100)\n",
    "plt.annotate(text=f'{np.where(np.round(y, 1)==0, x, 0).max()} skiers', xy=((np.where(np.round(y, 1)==0, x, 0).max() - 17), .5), color='blue')\n",
    "\n",
    "# Option 2: Second Lift\n",
    "y = queue_time_vect(x, lift_rate=second_rate, lift_time=second_lift_time)\n",
    "plt.plot(x, y, label='Second Lift', color='orange')\n",
    "plt.scatter(x=np.where(np.round(y, 1)==0, x, 0).max(), y=0, color='orange', s=100)\n",
    "plt.annotate(text=f'{np.where(np.round(y, 1)==0, x, 0).max()} skiers', xy=((np.where(np.round(y, 1)==0, x, 0).max() - 17), .5), color='orange')\n",
    "\n",
    "plt.hlines(y=0, linestyles='--', xmin=x_min, xmax=x_max, color='black')\n",
    "\n",
    "plt.yticks(range(-20, 35, 5))\n",
    "plt.xlim(x_min, x_max-1)\n",
    "plt.title('Ski Lift Queue Time')\n",
    "plt.xlabel('Skiers')\n",
    "plt.ylabel('Time in Queue (mins)')\n",
    "plt.legend(loc='upper left');"
   ]
  },
  {
   "cell_type": "markdown",
   "metadata": {},
   "source": [
    "## Export Data"
   ]
  },
  {
   "cell_type": "markdown",
   "metadata": {},
   "source": [
    "### Faster"
   ]
  },
  {
   "cell_type": "code",
   "execution_count": 16,
   "metadata": {},
   "outputs": [],
   "source": [
    "x = range(0, 10_001)"
   ]
  },
  {
   "cell_type": "code",
   "execution_count": 17,
   "metadata": {},
   "outputs": [],
   "source": [
    "n_rows = len(queue_time_vect(x, lift_rate=faster_rate, lift_time=faster_lift_time))\n",
    "\n",
    "data_faster = pd.concat(\n",
    "[\n",
    "pd.Series(['faster'] * n_rows), # option\n",
    "pd.Series(range(0, n_rows)),  # skiers\n",
    "pd.Series([faster_rate] * n_rows), # lift rate\n",
    "pd.Series([faster_lift_time] * n_rows), # lift time\n",
    "pd.Series([slopes_time] * n_rows), # slopes time\n",
    "pd.Series(queue_time_vect(x, lift_rate=faster_rate, lift_time=faster_lift_time)), # queue_time \n",
    "],\n",
    "axis=1\n",
    ")\n",
    "\n",
    "data_faster.columns = ['option', 'skiers', 'lift_rate', 'lift_time', 'slopes_time', 'queue_time']"
   ]
  },
  {
   "cell_type": "code",
   "execution_count": 18,
   "metadata": {},
   "outputs": [],
   "source": [
    "# number in queue\n",
    "q = data_faster['skiers'].map(\n",
    "    lambda x: x - ((faster_rate * slopes_time) + (faster_rate * faster_lift_time)) if (x - ((faster_rate * slopes_time) + (faster_rate * faster_lift_time))) > 0 else 0)\n",
    "\n",
    "# if the total number of skiers is more than the sum of max number skiers on slopes and in the lift, then set number in queue to the remainder.\n",
    "# else set number in queue to 0 as a skier will instantly get on the lift."
   ]
  },
  {
   "cell_type": "code",
   "execution_count": 19,
   "metadata": {},
   "outputs": [],
   "source": [
    "# number on slopes\n",
    "s = data_faster['skiers'] * ((faster_rate * slopes_time) / ((faster_rate * slopes_time) + (faster_rate * faster_lift_time)))  # slopes\n",
    "s = s.map(lambda x: x if x < (faster_rate * slopes_time) else (faster_rate * slopes_time)).astype(int)  # always round down\n",
    "\n",
    "# if the number of skiers is less than the sum of the max capacity of the lift and slopes, then take the proportion of skiers on slopes.\n",
    "# example: 6 total skiers. max capacity of slopes is 10 and max capacity of lift is 20. Therefore 2 (1/3) of skiers will be on slopes and 4 (2/3) will be on the lift.\n",
    "# fractional skiers are always rounded down."
   ]
  },
  {
   "cell_type": "code",
   "execution_count": 20,
   "metadata": {},
   "outputs": [],
   "source": [
    "# number on lift\n",
    "l = data_faster['skiers'] * ((faster_rate * faster_lift_time) / ((faster_rate * slopes_time) + (faster_rate * faster_lift_time)))  # lift\n",
    "l = np.ceil(l.map(lambda x: x if x < (faster_rate * faster_lift_time) else (faster_rate * faster_lift_time))).astype(int) # always round up\n",
    "\n",
    "# inverse of the slopes calculation. \n",
    "# fractional skiers are always rounded up."
   ]
  },
  {
   "cell_type": "code",
   "execution_count": 21,
   "metadata": {},
   "outputs": [],
   "source": [
    "# merge values into one frame\n",
    "skiers = pd.concat([l, s, q], axis = 1)\n",
    "skiers.columns = ['lift_skiers', 'slopes_skiers', 'queue_skiers']"
   ]
  },
  {
   "cell_type": "code",
   "execution_count": 22,
   "metadata": {},
   "outputs": [
    {
     "data": {
      "text/plain": [
       "(array([], dtype=int64),)"
      ]
     },
     "execution_count": 22,
     "metadata": {},
     "output_type": "execute_result"
    }
   ],
   "source": [
    "# data validation\n",
    "# will return empty array if skiers by category are always equal to the total number of skiers\n",
    "np.where(data_faster['skiers'] != (skiers['lift_skiers'] + skiers['slopes_skiers'] + skiers['queue_skiers']))"
   ]
  },
  {
   "cell_type": "code",
   "execution_count": 23,
   "metadata": {},
   "outputs": [],
   "source": [
    "data_faster = pd.concat([data_faster, skiers], axis=1)"
   ]
  },
  {
   "cell_type": "markdown",
   "metadata": {},
   "source": [
    "### Second"
   ]
  },
  {
   "cell_type": "code",
   "execution_count": 24,
   "metadata": {},
   "outputs": [],
   "source": [
    "n_rows = len(queue_time_vect(x, lift_rate=second_rate, lift_time=second_lift_time))\n",
    "\n",
    "data_second = pd.concat(\n",
    "[\n",
    "pd.Series(['second'] * n_rows), # option\n",
    "pd.Series(range(0, n_rows)),  # skiers\n",
    "pd.Series([second_rate] * n_rows), # lift rate\n",
    "pd.Series([second_lift_time] * n_rows), # lift time\n",
    "pd.Series([slopes_time] * n_rows), # slopes time\n",
    "pd.Series(queue_time_vect(x, lift_rate=second_rate, lift_time=second_lift_time)), # queue_time \n",
    "],\n",
    "axis=1\n",
    ")\n",
    "\n",
    "data_second.columns = ['option', 'skiers', 'lift_rate', 'lift_time', 'slopes_time', 'queue_time']"
   ]
  },
  {
   "cell_type": "code",
   "execution_count": 25,
   "metadata": {},
   "outputs": [],
   "source": [
    "# number in queue\n",
    "q = data_second['skiers'].map(\n",
    "    lambda x: x - ((second_rate * slopes_time) + (second_rate * second_lift_time)) if (x - ((second_rate * slopes_time) + (second_rate * second_lift_time))) > 0 else 0)\n",
    "\n",
    "# if the total number of skiers is more than the sum of max number skiers on slopes and in the lift, then set number in queue to the remainder.\n",
    "# else set number in queue to 0 as a skier will instantly get on the lift."
   ]
  },
  {
   "cell_type": "code",
   "execution_count": 26,
   "metadata": {},
   "outputs": [],
   "source": [
    "# number on slopes\n",
    "s = data_second['skiers'] * ((second_rate * slopes_time) / ((second_rate * slopes_time) + (second_rate * second_lift_time)))  # slopes\n",
    "s = s.map(lambda x: x if x < (second_rate * slopes_time) else (second_rate * slopes_time)).astype(int)  # always round down\n",
    "\n",
    "# if the number of skiers is less than the sum of the max capacity of the lift and slopes, then take the proportion of skiers on slopes.\n",
    "# example: 6 total skiers. max capacity of slopes is 10 and max capacity of lift is 20. Therefore 2 (1/3) of skiers will be on slopes and 4 (2/3) will be on the lift.\n",
    "# fractional skiers are always rounded down."
   ]
  },
  {
   "cell_type": "code",
   "execution_count": 27,
   "metadata": {},
   "outputs": [],
   "source": [
    "# number on lift\n",
    "l = data_second['skiers'] * ((second_rate * second_lift_time) / ((second_rate * slopes_time) + (second_rate * second_lift_time)))  # lift\n",
    "l = np.ceil(l.map(lambda x: x if x < (second_rate * second_lift_time) else (second_rate * second_lift_time))).astype(int) # always round up\n",
    "\n",
    "# inverse of the slopes calculation. \n",
    "# fractional skiers are always rounded up."
   ]
  },
  {
   "cell_type": "code",
   "execution_count": 28,
   "metadata": {},
   "outputs": [],
   "source": [
    "# merge values into one frame\n",
    "skiers = pd.concat([l, s, q], axis = 1)\n",
    "skiers.columns = ['lift_skiers', 'slopes_skiers', 'queue_skiers']"
   ]
  },
  {
   "cell_type": "code",
   "execution_count": 29,
   "metadata": {},
   "outputs": [
    {
     "data": {
      "text/plain": [
       "(array([], dtype=int64),)"
      ]
     },
     "execution_count": 29,
     "metadata": {},
     "output_type": "execute_result"
    }
   ],
   "source": [
    "# data validation\n",
    "# will return empty array if skiers by category are always equal to the total number of skiers\n",
    "np.where(data_second['skiers'] != (skiers['lift_skiers'] + skiers['slopes_skiers'] + skiers['queue_skiers']))"
   ]
  },
  {
   "cell_type": "code",
   "execution_count": 30,
   "metadata": {},
   "outputs": [],
   "source": [
    "data_second = pd.concat([data_second, skiers], axis=1)"
   ]
  },
  {
   "cell_type": "markdown",
   "metadata": {},
   "source": [
    "### Existing"
   ]
  },
  {
   "cell_type": "code",
   "execution_count": 31,
   "metadata": {},
   "outputs": [],
   "source": [
    "n_rows = len(queue_time_vect(x, lift_rate=existing_rate, lift_time=existing_lift_time))\n",
    "\n",
    "data_existing = pd.concat(\n",
    "[\n",
    "pd.Series(['existing'] * n_rows), # option\n",
    "pd.Series(range(0, n_rows)),  # skiers\n",
    "pd.Series([existing_rate] * n_rows), # lift rate\n",
    "pd.Series([existing_lift_time] * n_rows), # lift time\n",
    "pd.Series([slopes_time] * n_rows), # slopes time\n",
    "pd.Series(queue_time_vect(x, lift_rate=existing_rate, lift_time=existing_lift_time)), # queue_time \n",
    "],\n",
    "axis=1\n",
    ")\n",
    "\n",
    "data_existing.columns = ['option', 'skiers', 'lift_rate', 'lift_time', 'slopes_time', 'queue_time']"
   ]
  },
  {
   "cell_type": "code",
   "execution_count": 32,
   "metadata": {},
   "outputs": [],
   "source": [
    "# number in queue\n",
    "q = data_existing['skiers'].map(\n",
    "    lambda x: x - ((existing_rate * slopes_time) + (existing_rate * existing_lift_time)) if (x - ((existing_rate * slopes_time) + (existing_rate * existing_lift_time))) > 0 else 0)\n",
    "\n",
    "# if the total number of skiers is more than the sum of max number skiers on slopes and in the lift, then set number in queue to the remainder.\n",
    "# else set number in queue to 0 as a skier will instantly get on the lift."
   ]
  },
  {
   "cell_type": "code",
   "execution_count": 33,
   "metadata": {},
   "outputs": [],
   "source": [
    "# number on slopes\n",
    "s = data_existing['skiers'] * ((existing_rate * slopes_time) / ((existing_rate * slopes_time) + (existing_rate * existing_lift_time)))  # slopes\n",
    "s = s.map(lambda x: x if x < (existing_rate * slopes_time) else (existing_rate * slopes_time)).astype(int)  # always round down\n",
    "\n",
    "# if the number of skiers is less than the sum of the max capacity of the lift and slopes, then take the proportion of skiers on slopes.\n",
    "# example: 6 total skiers. max capacity of slopes is 10 and max capacity of lift is 20. Therefore 2 (1/3) of skiers will be on slopes and 4 (2/3) will be on the lift.\n",
    "# fractional skiers are always rounded down."
   ]
  },
  {
   "cell_type": "code",
   "execution_count": 34,
   "metadata": {},
   "outputs": [],
   "source": [
    "# number on lift\n",
    "l = data_existing['skiers'] * ((existing_rate * existing_lift_time) / ((existing_rate * slopes_time) + (existing_rate * existing_lift_time)))  # lift\n",
    "l = np.ceil(l.map(lambda x: x if x < (existing_rate * existing_lift_time) else (existing_rate * existing_lift_time))).astype(int) # always round up\n",
    "\n",
    "# inverse of the slopes calculation. \n",
    "# fractional skiers are always rounded up."
   ]
  },
  {
   "cell_type": "code",
   "execution_count": 35,
   "metadata": {},
   "outputs": [],
   "source": [
    "# merge values into one frame\n",
    "skiers = pd.concat([l, s, q], axis = 1)\n",
    "skiers.columns = ['lift_skiers', 'slopes_skiers', 'queue_skiers']"
   ]
  },
  {
   "cell_type": "code",
   "execution_count": 36,
   "metadata": {},
   "outputs": [
    {
     "data": {
      "text/plain": [
       "(array([], dtype=int64),)"
      ]
     },
     "execution_count": 36,
     "metadata": {},
     "output_type": "execute_result"
    }
   ],
   "source": [
    "# data validation\n",
    "# will return empty array if skiers by category are always equal to the total number of skiers\n",
    "np.where(data_existing['skiers'] != (skiers['lift_skiers'] + skiers['slopes_skiers'] + skiers['queue_skiers']))"
   ]
  },
  {
   "cell_type": "code",
   "execution_count": 37,
   "metadata": {},
   "outputs": [],
   "source": [
    "data_existing = pd.concat([data_existing, skiers], axis=1)"
   ]
  },
  {
   "cell_type": "markdown",
   "metadata": {},
   "source": [
    "### Custom"
   ]
  },
  {
   "cell_type": "code",
   "execution_count": 38,
   "metadata": {},
   "outputs": [],
   "source": [
    "n_rows = len(queue_time_vect(x, lift_rate=existing_rate, lift_time=existing_lift_time))\n",
    "\n",
    "data_custom = pd.concat(\n",
    "[\n",
    "pd.Series(['custom'] * n_rows), # option\n",
    "pd.Series(range(0, n_rows)),  # skiers\n",
    "pd.Series([existing_rate] * n_rows), # lift rate\n",
    "pd.Series([existing_lift_time] * n_rows), # lift time\n",
    "pd.Series([slopes_time] * n_rows), # slopes time\n",
    "pd.Series(queue_time_vect(x, lift_rate=existing_rate, lift_time=existing_lift_time)), # queue_time \n",
    "],\n",
    "axis=1\n",
    ")\n",
    "\n",
    "data_custom.columns = ['option', 'skiers', 'lift_rate', 'lift_time', 'slopes_time', 'queue_time']"
   ]
  },
  {
   "cell_type": "code",
   "execution_count": 39,
   "metadata": {},
   "outputs": [],
   "source": [
    "# number in queue\n",
    "q = data_custom['skiers'].map(\n",
    "    lambda x: x - ((existing_rate * slopes_time) + (existing_rate * existing_lift_time)) if (x - ((existing_rate * slopes_time) + (existing_rate * existing_lift_time))) > 0 else 0)\n",
    "\n",
    "# if the total number of skiers is more than the sum of max number skiers on slopes and in the lift, then set number in queue to the remainder.\n",
    "# else set number in queue to 0 as a skier will instantly get on the lift."
   ]
  },
  {
   "cell_type": "code",
   "execution_count": 40,
   "metadata": {},
   "outputs": [],
   "source": [
    "# number on slopes\n",
    "s = data_custom['skiers'] * ((existing_rate * slopes_time) / ((existing_rate * slopes_time) + (existing_rate * existing_lift_time)))  # slopes\n",
    "s = s.map(lambda x: x if x < (existing_rate * slopes_time) else (existing_rate * slopes_time)).astype(int)  # always round down\n",
    "\n",
    "# if the number of skiers is less than the sum of the max capacity of the lift and slopes, then take the proportion of skiers on slopes.\n",
    "# example: 6 total skiers. max capacity of slopes is 10 and max capacity of lift is 20. Therefore 2 (1/3) of skiers will be on slopes and 4 (2/3) will be on the lift.\n",
    "# fractional skiers are always rounded down."
   ]
  },
  {
   "cell_type": "code",
   "execution_count": 41,
   "metadata": {},
   "outputs": [],
   "source": [
    "# number on lift\n",
    "l = data_custom['skiers'] * ((existing_rate * existing_lift_time) / ((existing_rate * slopes_time) + (existing_rate * existing_lift_time)))  # lift\n",
    "l = np.ceil(l.map(lambda x: x if x < (existing_rate * existing_lift_time) else (existing_rate * existing_lift_time))).astype(int) # always round up\n",
    "\n",
    "# inverse of the slopes calculation. \n",
    "# fractional skiers are always rounded up."
   ]
  },
  {
   "cell_type": "code",
   "execution_count": 42,
   "metadata": {},
   "outputs": [],
   "source": [
    "# merge values into one frame\n",
    "skiers = pd.concat([l, s, q], axis = 1)\n",
    "skiers.columns = ['lift_skiers', 'slopes_skiers', 'queue_skiers']"
   ]
  },
  {
   "cell_type": "code",
   "execution_count": 43,
   "metadata": {},
   "outputs": [
    {
     "data": {
      "text/plain": [
       "(array([], dtype=int64),)"
      ]
     },
     "execution_count": 43,
     "metadata": {},
     "output_type": "execute_result"
    }
   ],
   "source": [
    "# data validation\n",
    "# will return empty array if skiers by category are always equal to the total number of skiers\n",
    "np.where(data_custom['skiers'] != (skiers['lift_skiers'] + skiers['slopes_skiers'] + skiers['queue_skiers']))"
   ]
  },
  {
   "cell_type": "code",
   "execution_count": 44,
   "metadata": {},
   "outputs": [],
   "source": [
    "data_custom = pd.concat([data_custom, skiers], axis=1)"
   ]
  },
  {
   "cell_type": "markdown",
   "metadata": {},
   "source": [
    "### Data Merge"
   ]
  },
  {
   "cell_type": "code",
   "execution_count": 45,
   "metadata": {},
   "outputs": [
    {
     "data": {
      "text/html": [
       "<div>\n",
       "<style scoped>\n",
       "    .dataframe tbody tr th:only-of-type {\n",
       "        vertical-align: middle;\n",
       "    }\n",
       "\n",
       "    .dataframe tbody tr th {\n",
       "        vertical-align: top;\n",
       "    }\n",
       "\n",
       "    .dataframe thead th {\n",
       "        text-align: right;\n",
       "    }\n",
       "</style>\n",
       "<table border=\"1\" class=\"dataframe\">\n",
       "  <thead>\n",
       "    <tr style=\"text-align: right;\">\n",
       "      <th></th>\n",
       "      <th>option</th>\n",
       "      <th>skiers</th>\n",
       "      <th>lift_rate</th>\n",
       "      <th>lift_time</th>\n",
       "      <th>slopes_time</th>\n",
       "      <th>queue_time</th>\n",
       "      <th>lift_skiers</th>\n",
       "      <th>slopes_skiers</th>\n",
       "      <th>queue_skiers</th>\n",
       "    </tr>\n",
       "  </thead>\n",
       "  <tbody>\n",
       "    <tr>\n",
       "      <th>0</th>\n",
       "      <td>faster</td>\n",
       "      <td>0</td>\n",
       "      <td>5</td>\n",
       "      <td>5</td>\n",
       "      <td>5</td>\n",
       "      <td>-10.0</td>\n",
       "      <td>0</td>\n",
       "      <td>0</td>\n",
       "      <td>0</td>\n",
       "    </tr>\n",
       "    <tr>\n",
       "      <th>1</th>\n",
       "      <td>faster</td>\n",
       "      <td>1</td>\n",
       "      <td>5</td>\n",
       "      <td>5</td>\n",
       "      <td>5</td>\n",
       "      <td>-9.8</td>\n",
       "      <td>1</td>\n",
       "      <td>0</td>\n",
       "      <td>0</td>\n",
       "    </tr>\n",
       "    <tr>\n",
       "      <th>2</th>\n",
       "      <td>faster</td>\n",
       "      <td>2</td>\n",
       "      <td>5</td>\n",
       "      <td>5</td>\n",
       "      <td>5</td>\n",
       "      <td>-9.6</td>\n",
       "      <td>1</td>\n",
       "      <td>1</td>\n",
       "      <td>0</td>\n",
       "    </tr>\n",
       "    <tr>\n",
       "      <th>3</th>\n",
       "      <td>faster</td>\n",
       "      <td>3</td>\n",
       "      <td>5</td>\n",
       "      <td>5</td>\n",
       "      <td>5</td>\n",
       "      <td>-9.4</td>\n",
       "      <td>2</td>\n",
       "      <td>1</td>\n",
       "      <td>0</td>\n",
       "    </tr>\n",
       "    <tr>\n",
       "      <th>4</th>\n",
       "      <td>faster</td>\n",
       "      <td>4</td>\n",
       "      <td>5</td>\n",
       "      <td>5</td>\n",
       "      <td>5</td>\n",
       "      <td>-9.2</td>\n",
       "      <td>2</td>\n",
       "      <td>2</td>\n",
       "      <td>0</td>\n",
       "    </tr>\n",
       "    <tr>\n",
       "      <th>...</th>\n",
       "      <td>...</td>\n",
       "      <td>...</td>\n",
       "      <td>...</td>\n",
       "      <td>...</td>\n",
       "      <td>...</td>\n",
       "      <td>...</td>\n",
       "      <td>...</td>\n",
       "      <td>...</td>\n",
       "      <td>...</td>\n",
       "    </tr>\n",
       "    <tr>\n",
       "      <th>9996</th>\n",
       "      <td>custom</td>\n",
       "      <td>9996</td>\n",
       "      <td>5</td>\n",
       "      <td>10</td>\n",
       "      <td>5</td>\n",
       "      <td>1984.2</td>\n",
       "      <td>50</td>\n",
       "      <td>25</td>\n",
       "      <td>9921</td>\n",
       "    </tr>\n",
       "    <tr>\n",
       "      <th>9997</th>\n",
       "      <td>custom</td>\n",
       "      <td>9997</td>\n",
       "      <td>5</td>\n",
       "      <td>10</td>\n",
       "      <td>5</td>\n",
       "      <td>1984.4</td>\n",
       "      <td>50</td>\n",
       "      <td>25</td>\n",
       "      <td>9922</td>\n",
       "    </tr>\n",
       "    <tr>\n",
       "      <th>9998</th>\n",
       "      <td>custom</td>\n",
       "      <td>9998</td>\n",
       "      <td>5</td>\n",
       "      <td>10</td>\n",
       "      <td>5</td>\n",
       "      <td>1984.6</td>\n",
       "      <td>50</td>\n",
       "      <td>25</td>\n",
       "      <td>9923</td>\n",
       "    </tr>\n",
       "    <tr>\n",
       "      <th>9999</th>\n",
       "      <td>custom</td>\n",
       "      <td>9999</td>\n",
       "      <td>5</td>\n",
       "      <td>10</td>\n",
       "      <td>5</td>\n",
       "      <td>1984.8</td>\n",
       "      <td>50</td>\n",
       "      <td>25</td>\n",
       "      <td>9924</td>\n",
       "    </tr>\n",
       "    <tr>\n",
       "      <th>10000</th>\n",
       "      <td>custom</td>\n",
       "      <td>10000</td>\n",
       "      <td>5</td>\n",
       "      <td>10</td>\n",
       "      <td>5</td>\n",
       "      <td>1985.0</td>\n",
       "      <td>50</td>\n",
       "      <td>25</td>\n",
       "      <td>9925</td>\n",
       "    </tr>\n",
       "  </tbody>\n",
       "</table>\n",
       "<p>40004 rows × 9 columns</p>\n",
       "</div>"
      ],
      "text/plain": [
       "       option  skiers  lift_rate  lift_time  slopes_time  queue_time  \\\n",
       "0      faster       0          5          5            5       -10.0   \n",
       "1      faster       1          5          5            5        -9.8   \n",
       "2      faster       2          5          5            5        -9.6   \n",
       "3      faster       3          5          5            5        -9.4   \n",
       "4      faster       4          5          5            5        -9.2   \n",
       "...       ...     ...        ...        ...          ...         ...   \n",
       "9996   custom    9996          5         10            5      1984.2   \n",
       "9997   custom    9997          5         10            5      1984.4   \n",
       "9998   custom    9998          5         10            5      1984.6   \n",
       "9999   custom    9999          5         10            5      1984.8   \n",
       "10000  custom   10000          5         10            5      1985.0   \n",
       "\n",
       "       lift_skiers  slopes_skiers  queue_skiers  \n",
       "0                0              0             0  \n",
       "1                1              0             0  \n",
       "2                1              1             0  \n",
       "3                2              1             0  \n",
       "4                2              2             0  \n",
       "...            ...            ...           ...  \n",
       "9996            50             25          9921  \n",
       "9997            50             25          9922  \n",
       "9998            50             25          9923  \n",
       "9999            50             25          9924  \n",
       "10000           50             25          9925  \n",
       "\n",
       "[40004 rows x 9 columns]"
      ]
     },
     "execution_count": 45,
     "metadata": {},
     "output_type": "execute_result"
    }
   ],
   "source": [
    "data = pd.concat([data_faster, data_second, data_existing, data_custom])\n",
    "data"
   ]
  },
  {
   "cell_type": "markdown",
   "metadata": {},
   "source": [
    "### Export"
   ]
  },
  {
   "cell_type": "code",
   "execution_count": 46,
   "metadata": {},
   "outputs": [],
   "source": [
    "data.to_csv('data.csv', index=False)"
   ]
  }
 ],
 "metadata": {
  "kernelspec": {
   "display_name": "Python 3.9.7 ('base')",
   "language": "python",
   "name": "python3"
  },
  "language_info": {
   "codemirror_mode": {
    "name": "ipython",
    "version": 3
   },
   "file_extension": ".py",
   "mimetype": "text/x-python",
   "name": "python",
   "nbconvert_exporter": "python",
   "pygments_lexer": "ipython3",
   "version": "3.9.7"
  },
  "orig_nbformat": 4,
  "vscode": {
   "interpreter": {
    "hash": "6aaf12f00e2accd7ab3a69f0361120d5b81b11b109d190d2913220c8ee37ccf8"
   }
  }
 },
 "nbformat": 4,
 "nbformat_minor": 2
}
